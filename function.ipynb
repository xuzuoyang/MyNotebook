{
 "cells": [
  {
   "cell_type": "markdown",
   "metadata": {},
   "source": [
    "函数"
   ]
  },
  {
   "cell_type": "markdown",
   "metadata": {},
   "source": [
    "高阶函数（接受函数为参数，或者把函数作为结果返回的函数）"
   ]
  },
  {
   "cell_type": "code",
   "execution_count": 2,
   "metadata": {},
   "outputs": [
    {
     "data": {
      "text/plain": [
       "True"
      ]
     },
     "execution_count": 2,
     "metadata": {},
     "output_type": "execute_result"
    }
   ],
   "source": [
    "def factorial(n):\n",
    "    return 1 if n in [0, 1] else factorial(n-2) + factorial(n-1)\n",
    "\n",
    "list(map(factorial, filter(lambda x: x % 2, range(10))))\n",
    "[factorial(i) for i in range(10) if i % 2]\n",
    "# python2中 map和filter返回列表，所以最接近的替代品是列表推导\n",
    "# python3中 map和filter返回生成器（一种迭代器），因此直接替代品是生成器表达式\n",
    "\n",
    "from functools import reduce\n",
    "from operator import add\n",
    "\n",
    "reduce(add, range(10))\n",
    "sum(range(10))\n",
    "# reduce和sum的通用思想都是把某个操作作用到序列的元素上，累计之前的结果，把一系列值归约成一个值\n",
    "\n",
    "# 其他的归约函数\n",
    "all(range(10)) # all(iterable)\n",
    "# 如果iterable的所有值都为真，返回True；如果empty, 如all([])，则返回True\n",
    "any(range(10)) # any(iterable)\n",
    "# 如果iterable中有元素为真，返回True；如果empty，如any([])，则返回False"
   ]
  },
  {
   "cell_type": "markdown",
   "metadata": {},
   "source": [
    "匿名函数（不能赋值，也不能使用while/try等语句，只能使用纯表达式）"
   ]
  },
  {
   "cell_type": "code",
   "execution_count": 1,
   "metadata": {},
   "outputs": [
    {
     "data": {
      "text/plain": [
       "['banana', 'apple', 'peach', 'mongo', 'cherry']"
      ]
     },
     "execution_count": 1,
     "metadata": {},
     "output_type": "execute_result"
    }
   ],
   "source": [
    "fruits = ['peach', 'apple', 'banana', 'mongo', 'cherry']\n",
    "sorted(fruits, key=lambda word: word[::-1])"
   ]
  },
  {
   "cell_type": "markdown",
   "metadata": {},
   "source": [
    "可调用对象\n",
    "\n",
    "调用运算符()可以运用到的对象，可以通过内置函数callable()函数来判断，有以下７种：\n",
    "1. 用户定义的函数：用def/lambda表达式创建\n",
    "2. 内置函数，如len\n",
    "3. 内置方法，如dict.get\n",
    "4. 方法：类中定义的函数\n",
    "5. 类：会运行__new__方法创建一个实例，然后运行__init__方法初始化实例，最后把实例返回给调用方\n",
    "6. 类的实例：需要定义__call__方法\n",
    "7. 生成器函数：使用yield关键字的函数或方法，返回的是生成器对象"
   ]
  },
  {
   "cell_type": "markdown",
   "metadata": {},
   "source": [
    "函数内省"
   ]
  },
  {
   "cell_type": "code",
   "execution_count": 4,
   "metadata": {},
   "outputs": [
    {
     "data": {
      "text/plain": [
       "['__annotations__',\n",
       " '__call__',\n",
       " '__closure__',\n",
       " '__code__',\n",
       " '__defaults__',\n",
       " '__get__',\n",
       " '__globals__',\n",
       " '__kwdefaults__',\n",
       " '__name__',\n",
       " '__qualname__']"
      ]
     },
     "execution_count": 4,
     "metadata": {},
     "output_type": "execute_result"
    }
   ],
   "source": [
    "class A: pass\n",
    "a = A()\n",
    "def f(): pass\n",
    "\n",
    "sorted(set(dir(f)) - set(dir(a))) # 函数特有的属性"
   ]
  },
  {
   "cell_type": "markdown",
   "metadata": {},
   "source": [
    "函数的参数"
   ]
  },
  {
   "cell_type": "code",
   "execution_count": 22,
   "metadata": {},
   "outputs": [
    {
     "name": "stdout",
     "output_type": "stream",
     "text": [
      "(1,)\n",
      "{'c': 2}\n"
     ]
    }
   ],
   "source": [
    "def f(a, b=1, *, c=2, d):\n",
    "    return a, b, c, d\n",
    "\n",
    "f(1, 2, c=3, d=4)\n",
    "# python3提供了仅限关键字参数（keyword-only argument），如ｃ，仅限关键字参数不一定要有默认值\n",
    "print(f.__defaults__) # 存放定位参数和关键字参数的默认值的元组\n",
    "print(f.__kwdefaults__) # 存放仅限关键字参数的默认值（如果有的话）的字典"
   ]
  },
  {
   "cell_type": "code",
   "execution_count": 30,
   "metadata": {},
   "outputs": [
    {
     "name": "stdout",
     "output_type": "stream",
     "text": [
      "POSITIONAL_OR_KEYWORD : a = <class 'inspect._empty'>\n",
      "POSITIONAL_OR_KEYWORD : b = 1\n",
      "VAR_POSITIONAL : c = <class 'inspect._empty'>\n",
      "KEYWORD_ONLY : d = <class 'inspect._empty'>\n",
      "VAR_KEYWORD : e = <class 'inspect._empty'>\n",
      "a = 1\n",
      "d = 3\n"
     ]
    }
   ],
   "source": [
    "from inspect import signature\n",
    "\n",
    "def func(a, b=1, *c, d, **e):\n",
    "    pass\n",
    "sig = signature(func)\n",
    "for name, param in sig.parameters.items():\n",
    "    print(param.kind, ':', name, '=', param.default)\n",
    "# POSITIONAL_OR_KEYWORD 可以通过定位参数和关键字参数传入的形参\n",
    "# VAR_POSITIONAL 定位参数元组\n",
    "# VAR_KEYWORD 关键字参数字典\n",
    "# KEYWORD_ONLY 仅限关键字参数，python3新增\n",
    "# POSITIONAL_ONLY 并不支持\n",
    "\n",
    "args = {\n",
    "    'a': 1,\n",
    "    'd': 3\n",
    "}\n",
    "bound_args = sig.bind(**args)\n",
    "bound_args = sig.bind(1, d=3)\n",
    "# bound_args = sig.bind(1, 3) # 会报错，因为d是仅限关键字参数\n",
    "for name, value in bound_args.arguments.items():\n",
    "    print(name, '=', value)\n",
    "# inspect.Signature对象的bind方法可以把任意参数绑定到形参上，可以以此\n",
    "# 在真正调用函数之前验证参数"
   ]
  },
  {
   "cell_type": "markdown",
   "metadata": {},
   "source": [
    "函数注解（TODO）"
   ]
  },
  {
   "cell_type": "markdown",
   "metadata": {},
   "source": [
    "函数闭包"
   ]
  },
  {
   "cell_type": "code",
   "execution_count": 45,
   "metadata": {},
   "outputs": [
    {
     "name": "stdout",
     "output_type": "stream",
     "text": [
      "(<cell at 0x7f5f842b9b58: int object at 0x55ca2bf8cf40>,)\n"
     ]
    },
    {
     "data": {
      "text/plain": [
       "1"
      ]
     },
     "execution_count": 45,
     "metadata": {},
     "output_type": "execute_result"
    }
   ],
   "source": [
    "def a():\n",
    "    v1 = 1\n",
    "    def b():\n",
    "        v1 = 2 # 此时创建了新的同名局部变量，不会对外部的v1造成影响\n",
    "        # v1 = 1 # 此时在闭包函数ｂ中会默认v1为局部变量，所以如果有｀赋值｀操作则会报错\n",
    "        # 除非使用nonlocal关键字声明v1，则可以外部的自由变量v1\n",
    "    return b\n",
    "\n",
    "# 闭包的三个条件\n",
    "# 1. nested function 如上面的函数b\n",
    "# 2. nested function引用enclosing function的变量，如b使用nonlocal v1的话\n",
    "# 3. enclosing function必须返回nested function，如a返回了b\n",
    "\n",
    "# 变量作用域\n",
    "# LEGB: Local, Enclosing, Global, Built-in\n",
    "# 关键字有nonlocal和global\n",
    "\n",
    "# 闭包函数会保存定义enclosing function时存在的自由变量的绑定，\n",
    "# 这样调用nested function虽然定义作用域不可用了，但是仍能使用那些绑定\n",
    "def a():\n",
    "    v1 = 1\n",
    "    def b():\n",
    "        nonlocal v1\n",
    "        v1 = 2\n",
    "    return b\n",
    "\n",
    "b = a()\n",
    "print(b.__closure__)\n",
    "b.__closure__[0].cell_contents"
   ]
  },
  {
   "cell_type": "markdown",
   "metadata": {},
   "source": [
    "装饰器"
   ]
  },
  {
   "cell_type": "code",
   "execution_count": 16,
   "metadata": {},
   "outputs": [
    {
     "name": "stdout",
     "output_type": "stream",
     "text": [
      "start dec1\n",
      "start dec2\n",
      "hello\n",
      "print_msg\n",
      "register func: %s <function func at 0x7f4c5c81ea60>\n",
      "[<function func at 0x7f4c5c81ea60>]\n",
      "logging: test\n",
      "running f\n"
     ]
    }
   ],
   "source": [
    "import functools\n",
    "\n",
    "\n",
    "def dec1(func):\n",
    "    @functools.wraps(func)\n",
    "    def wrap(msg):\n",
    "        print('start dec1')\n",
    "        func(msg)\n",
    "    return wrap\n",
    "\n",
    "def dec2(func):\n",
    "    @functools.wraps(func)\n",
    "    def wrap(msg):\n",
    "        print('start dec2')\n",
    "        func(msg)\n",
    "    return wrap\n",
    "\n",
    "@dec1\n",
    "@dec2\n",
    "def print_msg(msg):\n",
    "    print(msg)\n",
    "    \n",
    "print_msg('hello') # 装饰器会按照从上到下的顺序执行　即dec1(dec2(print_msg))('hello')\n",
    "print(print_msg.__name__)\n",
    "# 何时执行装饰器\n",
    "registry = []\n",
    "def reg(func):\n",
    "    print('register func: %s', func)\n",
    "    registry.append(func)\n",
    "    \n",
    "@reg\n",
    "def func():\n",
    "    print('running func')\n",
    "    \n",
    "print(registry) # 装饰器是在导入时或者说定义时就执行的，而不需要被装饰函数运行才会执行\n",
    "\n",
    "# 标准库的装饰器\n",
    "import time\n",
    "\n",
    "def clock(func):\n",
    "    @functools.wraps(func)\n",
    "    def wrap(*args, **kwargs):\n",
    "        t0 = time.time()\n",
    "        result = func(*args, **kwargs)\n",
    "        elapsed = time.time() - t0\n",
    "        arg_list = []\n",
    "        if args:\n",
    "            arg_list.append(', '.join(repr(arg) for arg in args))\n",
    "        if kwargs:\n",
    "            pairs = ['%s=%r' % (k, w) for k, w in sorted(kwargs.items())]\n",
    "            arg_list.append(', '.join(pairs))\n",
    "        arg_str = ', '.join(arg_list)\n",
    "        print('[%0.8fs] %s(%s) -> %r' % (elapsed, func.__name__, arg_str, result))\n",
    "        return result\n",
    "    return wrap\n",
    "\n",
    "@clock\n",
    "def factorial(n):\n",
    "    return 1 if n in [0, 1] else factorial(n-2) + factorial(n-1)\n",
    "\n",
    "# factorial(31)\n",
    "\n",
    "@functools.lru_cache()\n",
    "@clock\n",
    "def factorial(n):\n",
    "    return 1 if n in [0, 1] else factorial(n-2) + factorial(n-1)\n",
    "\n",
    "# factorial(31) # 会缓存每次的结果，lru_cache带括号的原因是因为还支持别的参数\n",
    "\n",
    "# 类装饰器\n",
    "class log:\n",
    "    def __init__(self, msg):\n",
    "        self.msg = msg\n",
    "        \n",
    "    def __call__(self, func):\n",
    "        @functools.wraps(func)\n",
    "        def wrap(*args, **kwargs):\n",
    "            print('logging: %s' % self.msg)\n",
    "            return func(*args, **kwargs)\n",
    "        return wrap\n",
    "    \n",
    "@log('test')\n",
    "def f():\n",
    "    print('running f')\n",
    "    \n",
    "f() # 类装饰器的好处是可以继承，例如可以加一个EmailLog(log)的类来增加发邮件的功能"
   ]
  }
 ],
 "metadata": {
  "kernelspec": {
   "display_name": "Python 3",
   "language": "python",
   "name": "python3"
  },
  "language_info": {
   "codemirror_mode": {
    "name": "ipython",
    "version": 3
   },
   "file_extension": ".py",
   "mimetype": "text/x-python",
   "name": "python",
   "nbconvert_exporter": "python",
   "pygments_lexer": "ipython3",
   "version": "3.5.4rc1"
  }
 },
 "nbformat": 4,
 "nbformat_minor": 2
}
