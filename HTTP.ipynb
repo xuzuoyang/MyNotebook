{
 "cells": [
  {
   "cell_type": "markdown",
   "metadata": {},
   "source": [
    "urllib"
   ]
  },
  {
   "cell_type": "code",
   "execution_count": 4,
   "metadata": {},
   "outputs": [
    {
     "name": "stdout",
     "output_type": "stream",
     "text": [
      "Status: 200, OK\n",
      "Date: Sat, 19 Aug 2017 07:39:12 GMT\n",
      "Content-Type: application/json; charset=utf-8\n",
      "Content-Length: 2055\n",
      "Connection: close\n",
      "Vary: Accept-Encoding\n",
      "X-Ratelimit-Remaining2: 99\n",
      "X-Ratelimit-Limit2: 100\n",
      "Expires: Sun, 1 Jan 2006 01:00:00 GMT\n",
      "Pragma: no-cache\n",
      "Cache-Control: must-revalidate, no-cache, private\n",
      "Set-Cookie: bid=hS6MyisiV8A; Expires=Sun, 19-Aug-18 07:39:12 GMT; Domain=.douban.com; Path=/\n",
      "X-DOUBAN-NEWBID: hS6MyisiV8A\n",
      "X-DAE-Node: sindar17d\n",
      "X-DAE-App: book\n",
      "Server: dae\n",
      "Data: {\"rating\":{\"max\":10,\"numRaters\":16,\"average\":\"7.4\",\"min\":0},\"subtitle\":\"\",\"author\":[\"廖雪峰编著\"],\"pubdate\":\"2007-6\",\"tags\":[{\"count\":21,\"name\":\"spring\",\"title\":\"spring\"},{\"count\":13,\"name\":\"Java\",\"title\":\"Java\"},{\"count\":6,\"name\":\"javaee\",\"title\":\"javaee\"},{\"count\":5,\"name\":\"j2ee\",\"title\":\"j2ee\"},{\"count\":4,\"name\":\"计算机\",\"title\":\"计算机\"},{\"count\":3,\"name\":\"藏书\",\"title\":\"藏书\"},{\"count\":3,\"name\":\"编程\",\"title\":\"编程\"},{\"count\":3,\"name\":\"POJO\",\"title\":\"POJO\"}],\"origin_title\":\"\",\"image\":\"https://img3.doubanio.com\\/mpic\\/s2648230.jpg\",\"binding\":\"\",\"translator\":[],\"catalog\":\"\",\"pages\":\"509\",\"images\":{\"small\":\"https://img3.doubanio.com\\/spic\\/s2648230.jpg\",\"large\":\"https://img3.doubanio.com\\/lpic\\/s2648230.jpg\",\"medium\":\"https://img3.doubanio.com\\/mpic\\/s2648230.jpg\"},\"alt\":\"https:\\/\\/book.douban.com\\/subject\\/2129650\\/\",\"id\":\"2129650\",\"publisher\":\"电子工业\",\"isbn10\":\"7121042622\",\"isbn13\":\"9787121042621\",\"title\":\"Spring 2.0核心技术与最佳实践\",\"url\":\"https:\\/\\/api.douban.com\\/v2\\/book\\/2129650\",\"alt_title\":\"\",\"author_intro\":\"\",\"summary\":\"本书注重实践而又深入理论，由浅入深且详细介绍了Spring 2.0框架的几乎全部的内容，并重点突出2.0版本的新特性。本书将为读者展示如何应用Spring 2.0框架创建灵活高效的JavaEE应用，并提供了一个真正可直接部署的完整的Web应用程序——Live在线书店(http:\\/\\/www.livebookstore.net)。\\n在介绍Spring框架的同时，本书还介绍了与Spring相关的大量第三方框架，涉及领域全面，实用性强。本书另一大特色是实用性强，易于上手，以实际项目为出发点，介绍项目开发中应遵循的最佳开发模式。\\n本书还介绍了大量实践性极强的例子，并给出了完整的配置步骤，几乎覆盖了Spring 2.0版本的新特性。\\n本书适合有一定Java基础的读者，对JavaEE开发人员特别有帮助。本书既可以作为Spring 2.0的学习指南，也可以作为实际项目开发的参考手册。\",\"price\":\"59.80元\"}\n"
     ]
    }
   ],
   "source": [
    "from urllib import request\n",
    "\n",
    "with request.urlopen('https://api.douban.com/v2/book/2129650') as f:\n",
    "    print('Status: {}, {}'.format(f.status, f.reason))\n",
    "    for k,v in f.getheaders():\n",
    "        print('{}: {}'.format(k, v))\n",
    "    data = f.read()\n",
    "    print('Data: {}'.format(data.decode('utf8')))"
   ]
  },
  {
   "cell_type": "code",
   "execution_count": 7,
   "metadata": {
    "scrolled": true
   },
   "outputs": [
    {
     "name": "stdout",
     "output_type": "stream",
     "text": [
      "Login to weibo.cn...\n",
      "Email: xzyduoduo@126.com\n",
      "Password: 10997666xzy123a\n",
      "Status: 200 OK\n",
      "Server: nginx/1.6.1\n",
      "Date: Sat, 19 Aug 2017 07:45:38 GMT\n",
      "Content-Type: text/html\n",
      "Transfer-Encoding: chunked\n",
      "Connection: close\n",
      "Vary: Accept-Encoding\n",
      "Cache-Control: no-cache, must-revalidate\n",
      "Expires: Sat, 26 Jul 1997 05:00:00 GMT\n",
      "Pragma: no-cache\n",
      "Access-Control-Allow-Origin: https://passport.weibo.cn\n",
      "Access-Control-Allow-Credentials: true\n",
      "Set-Cookie: TMPTOKEN=Qw61nLsFudRE3bnJx1troBCeRbDwH4QdpGIR1poaX0ctFrKo6JYCAHGSHo35rNj3; expires=Saturday, 19-Aug-2017 08:15:38 GMT; path=/; domain=.weibo.cn; httponly\n",
      "DPOOL_HEADER: lich243\n",
      "SINA-LB: aGEuMTgxLmcxLnRjLmxiLnNpbmFub2RlLmNvbQ==\n",
      "SINA-TS: MmRhOWFjZSAwIDAgMCAzIDk4Cg==\n",
      "Data: {\"retcode\":50050004,\"msg\":\"\\u60a8\\u5df2\\u5f00\\u542f\\u767b\\u5f55\\u4fdd\\u62a4\\uff0c\\u8bf7\\u4f7f\\u7528\\u9a8c\\u8bc1\\u7801\\u767b\\u5f55\",\"data\":{\"errline\":428}}\n"
     ]
    }
   ],
   "source": [
    "from urllib import request, parse\n",
    "\n",
    "print('Login to weibo.cn...')\n",
    "email = input('Email: ')\n",
    "passwd = input('Password: ')\n",
    "login_data = parse.urlencode([\n",
    "    ('username', email),\n",
    "    ('password', passwd),\n",
    "    ('entry', 'mweibo'),\n",
    "    ('client_id', ''),\n",
    "    ('savestate', '1'),\n",
    "    ('ec', ''),\n",
    "    ('pagerefer', 'https://passport.weibo.cn/signin/welcome?entry=mweibo&r=http%3A%2F%2Fm.weibo.cn%2F')\n",
    "])\n",
    "\n",
    "req = request.Request('https://passport.weibo.cn/sso/login')\n",
    "req.add_header('Origin', 'https://passport.weibo.cn')\n",
    "req.add_header('User-Agent', 'Mozilla/6.0 (iPhone; CPU iPhone OS 8_0 like Mac OS X) AppleWebKit/536.26 (KHTML, like Gecko) Version/8.0 Mobile/10A5376e Safari/8536.25')\n",
    "req.add_header('Referer', 'https://passport.weibo.cn/signin/login?entry=mweibo&res=wel&wm=3349&r=http%3A%2F%2Fm.weibo.cn%2F')\n",
    "\n",
    "with request.urlopen(req, data=login_data.encode('utf-8')) as f:\n",
    "    print('Status:', f.status, f.reason)\n",
    "    for k, v in f.getheaders():\n",
    "        print('%s: %s' % (k, v))\n",
    "    print('Data:', f.read().decode('utf-8'))"
   ]
  },
  {
   "cell_type": "code",
   "execution_count": 14,
   "metadata": {},
   "outputs": [
    {
     "name": "stdout",
     "output_type": "stream",
     "text": [
      "password=123456&username=%B6%E0%B6%E0\n"
     ]
    }
   ],
   "source": [
    "from urllib import parse\n",
    "\n",
    "url = parse.urlencode({'username': '多多', 'password': '123456'}, encoding='gbk')\n",
    "print(url)"
   ]
  },
  {
   "cell_type": "code",
   "execution_count": null,
   "metadata": {
    "collapsed": true
   },
   "outputs": [],
   "source": []
  },
  {
   "cell_type": "code",
   "execution_count": null,
   "metadata": {
    "collapsed": true
   },
   "outputs": [],
   "source": []
  },
  {
   "cell_type": "markdown",
   "metadata": {},
   "source": [
    "requests"
   ]
  },
  {
   "cell_type": "code",
   "execution_count": 2,
   "metadata": {},
   "outputs": [
    {
     "name": "stdout",
     "output_type": "stream",
     "text": [
      "url: https://github.com/search?q=python\n",
      "status: 200\n",
      "msg: OK\n",
      "encoding: utf-8\n",
      "text/html; charset=utf-8\n",
      "<class 'bytes'>\n",
      "<class 'str'>\n"
     ]
    }
   ],
   "source": [
    "import requests\n",
    "\n",
    "payload = {'q': 'python'}\n",
    "r = requests.get('https://github.com/search', params=payload)\n",
    "print('url: {}'.format(r.url))\n",
    "print('status: {}'.format(r.status_code))\n",
    "print('msg: {}'.format(r.reason))\n",
    "print('encoding: {}'.format(r.encoding))\n",
    "print(r.headers['content-type'])\n",
    "print(type(r.content))\n",
    "print(type(r.text))\n",
    "# print(r.json())\n",
    "# print('headers: {}'.format(r.headers.keys()))"
   ]
  },
  {
   "cell_type": "code",
   "execution_count": null,
   "metadata": {
    "collapsed": true
   },
   "outputs": [],
   "source": []
  },
  {
   "cell_type": "code",
   "execution_count": null,
   "metadata": {
    "collapsed": true
   },
   "outputs": [],
   "source": []
  }
 ],
 "metadata": {
  "kernelspec": {
   "display_name": "Python 3",
   "language": "python",
   "name": "python3"
  },
  "language_info": {
   "codemirror_mode": {
    "name": "ipython",
    "version": 3
   },
   "file_extension": ".py",
   "mimetype": "text/x-python",
   "name": "python",
   "nbconvert_exporter": "python",
   "pygments_lexer": "ipython3",
   "version": "3.5.4rc1"
  }
 },
 "nbformat": 4,
 "nbformat_minor": 2
}
