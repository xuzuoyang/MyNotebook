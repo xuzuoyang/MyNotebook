{
 "cells": [
  {
   "cell_type": "markdown",
   "metadata": {},
   "source": [
    "#### Concepts"
   ]
  },
  {
   "cell_type": "markdown",
   "metadata": {},
   "source": [
    "Class has attributes which are fields and methods.\n",
    "Fields include instance variables(self.v) and class variables(cls.v).\n",
    "Methods include static methods, class methods(cls) and normal methods(self)."
   ]
  },
  {
   "cell_type": "code",
   "execution_count": 6,
   "metadata": {
    "collapsed": true
   },
   "outputs": [
    {
     "name": "stdout",
     "output_type": "stream",
     "text": [
      "total num of users is 1\n"
     ]
    }
   ],
   "source": [
    "class User:\n",
    "    count = 0\n",
    "    __privilege = 'class 1'\n",
    "    \n",
    "    def __init__(self, username):\n",
    "        self.username = username\n",
    "        self.__passwd = '123456'\n",
    "        User.count += 1\n",
    "        \n",
    "    @property\n",
    "    def intro(self):\n",
    "        self.intro = 'i\\'m {self.username}'.format(self)\n",
    "        return self.intro\n",
    "    @intro.setter\n",
    "    def intro(self, value):\n",
    "        self.username = value\n",
    "    @intro.deleter\n",
    "    def intro(self):\n",
    "        del self.intro\n",
    "        \n",
    "    @classmethod\n",
    "    def isClassOf(cls, base):\n",
    "        return type(cls) == base\n",
    "    \n",
    "    @staticmethod\n",
    "    def countAll():\n",
    "        print('total num of users is {}'.format(User.count))\n",
    "        \n",
    "        \n",
    "user = User('test')\n",
    "user.countAll()\n",
    "        "
   ]
  },
  {
   "cell_type": "markdown",
   "metadata": {},
   "source": [
    "#### Name Mangling"
   ]
  },
  {
   "cell_type": "raw",
   "metadata": {},
   "source": [
    "Since there is a valid use-case for class-private members (namely to avoid name clashes of names with names defined by subclasses), there is limited support for such a mechanism, called name mangling. Any identifier of the form __spam (at least two leading underscores, at most one trailing underscore) is textually replaced with _classname__spam, where classname is the current class name with leading underscore(s) stripped. This mangling is done without regard to the syntactic position of the identifier, as long as it occurs within the definition of a class.\n",
    "#Name mangling# #类私有成员#"
   ]
  },
  {
   "cell_type": "code",
   "execution_count": 6,
   "metadata": {
    "collapsed": false
   },
   "outputs": [
    {
     "name": "stdout",
     "output_type": "stream",
     "text": [
      "10\n",
      "0\n",
      "0\n"
     ]
    }
   ],
   "source": [
    "class Person:\n",
    "    __number = 0\n",
    "    def __init__(self, name):\n",
    "        self.name = name\n",
    "        self.age = Person.__number # self.__number\n",
    "    def introduce(self):\n",
    "        print('The person is '+str(self.name)+' and is '+str(self.age))\n",
    "class Student(Person):\n",
    "    __number = 10\n",
    "    school = 'Omega'\n",
    "    def __init__(self, name, age, grade):\n",
    "        # Person.__init__(self)\n",
    "        super(Student, self).__init__(name, age)\n",
    "        self.grade = grade\n",
    "    def introduce(self):\n",
    "        print('The student is '+str(self.name)+' and is '+str(self.age)+' in grade '+str(self.grade))\n",
    "print(Student._Student__number)\n",
    "print(Student._Person__number)\n",
    "person = Person('jeff')\n",
    "print(person._Person__number)"
   ]
  },
  {
   "cell_type": "raw",
   "metadata": {},
   "source": [
    "Name mangling convert __number to _Person__number which belongs to class Person, but class Student will also inherit it, however there won't be same-name-variable-overwrite issue."
   ]
  },
  {
   "cell_type": "markdown",
   "metadata": {},
   "source": [
    "#### Inheritance"
   ]
  },
  {
   "cell_type": "code",
   "execution_count": 11,
   "metadata": {
    "collapsed": true
   },
   "outputs": [
    {
     "name": "stdout",
     "output_type": "stream",
     "text": [
      "enter C\n",
      "enter A\n",
      "enter B\n",
      "enter Base\n",
      "leave Base\n",
      "leave B\n",
      "leave A\n",
      "leave C\n"
     ]
    }
   ],
   "source": [
    "class Base(object):\n",
    "    def __init__(self):\n",
    "        print(\"enter Base\")\n",
    "        print(\"leave Base\")\n",
    " \n",
    "class A(Base):\n",
    "    def __init__(self):\n",
    "        print(\"enter A\")\n",
    "        super(A, self).__init__()\n",
    "        print(\"leave A\")\n",
    " \n",
    "class B(Base):\n",
    "    def __init__(self):\n",
    "        print(\"enter B\")\n",
    "        super(B, self).__init__()\n",
    "        print(\"leave B\")\n",
    " \n",
    "class C(A, B):\n",
    "    def __init__(self):\n",
    "        print(\"enter C\")\n",
    "        super(C, self).__init__()\n",
    "        print(\"leave C\")\n",
    "        \n",
    "c = C()"
   ]
  },
  {
   "cell_type": "markdown",
   "metadata": {},
   "source": [
    "#### Special Methods"
   ]
  },
  {
   "cell_type": "markdown",
   "metadata": {
    "collapsed": true
   },
   "source": [
    "__init__, __new__\n",
    "__str__, __repr__\n",
    "__getitem__、__setitem__、__delitem__\n",
    "__dir__\n",
    "__call__\n",
    "__metaclass__"
   ]
  },
  {
   "cell_type": "markdown",
   "metadata": {},
   "source": [
    "__new__ vs __init__"
   ]
  },
  {
   "cell_type": "markdown",
   "metadata": {
    "collapsed": true
   },
   "source": [
    "__new__ is a static method, while __init__ is a instance method.\n",
    "__new__ returns an instance of class, __init__ does not.\n",
    "__init__ is invoked after __new__ returns an instance of cls.\n",
    "__new__ is for creating an instance whereas __init__ is for initiating the instance."
   ]
  },
  {
   "cell_type": "code",
   "execution_count": null,
   "metadata": {
    "collapsed": true
   },
   "outputs": [],
   "source": [
    "class Mapping:\n",
    "    def __init__(self, iterable):\n",
    "        self.items_list = []\n",
    "        self.__update(iterable)\n",
    "\n",
    "    def update(self, iterable):\n",
    "        for item in iterable:\n",
    "            self.items_list.append(item)\n",
    "\n",
    "    __update = update   # private copy of original update() method\n",
    "\n",
    "class MappingSubclass(Mapping):\n",
    "\n",
    "    def update(self, keys, values):\n",
    "        # provides new signature for update()\n",
    "        # but does not break __init__()\n",
    "        for item in zip(keys, values):\n",
    "            self.items_list.append(item)"
   ]
  },
  {
   "cell_type": "markdown",
   "metadata": {},
   "source": [
    "dir() vs var()"
   ]
  },
  {
   "cell_type": "markdown",
   "metadata": {},
   "source": [
    "Without arguments, return the list of names in the current local scope. With an argument, attempt to return a list of valid attributes for that object.\n",
    "\n",
    "The default dir() mechanism behaves differently with different types of objects, as it attempts to produce the most relevant, rather than complete, information:\n",
    "\n",
    "If the object is a module object, the list contains the names of the module’s attributes.\n",
    "If the object is a type or class object, the list contains the names of its attributes, and recursively of the attributes of its bases.\n",
    "Otherwise, the list contains the object’s attributes’ names, the names of its class’s attributes, and recursively of the attributes of its class’s base classes."
   ]
  },
  {
   "cell_type": "markdown",
   "metadata": {},
   "source": [
    "So the difference between vars(x) and dir(x) is that dir(x) does the extra work of looking in x's class (and its bases) for attributes that are accessible from it, not just those attributes that are stored in x's own symbol table."
   ]
  },
  {
   "cell_type": "code",
   "execution_count": 8,
   "metadata": {
    "collapsed": true
   },
   "outputs": [
    {
     "name": "stdout",
     "output_type": "stream",
     "text": [
      "['_Person__number', '_Student__number', '__class__', '__delattr__', '__dict__', '__dir__', '__doc__', '__eq__', '__format__', '__ge__', '__getattribute__', '__gt__', '__hash__', '__init__', '__le__', '__lt__', '__module__', '__ne__', '__new__', '__reduce__', '__reduce_ex__', '__repr__', '__setattr__', '__sizeof__', '__str__', '__subclasshook__', '__weakref__', 'introduce', 'school']\n",
      "{'__module__': '__main__', '__doc__': None, '_Student__number': 10, 'school': 'Omega', 'introduce': <function Student.introduce at 0x105a56048>, '__init__': <function Student.__init__ at 0x105a56158>}\n"
     ]
    }
   ],
   "source": [
    "p = Person('tom')\n",
    "print(dir(Student))\n",
    "print(vars(Student))"
   ]
  },
  {
   "cell_type": "markdown",
   "metadata": {},
   "source": [
    "__slots__"
   ]
  },
  {
   "cell_type": "raw",
   "metadata": {},
   "source": [
    "__slots__ is used to limit attributes of instance of a class although its subclass is not limited to parent class's __slots__ attribute. Once the subclass has __slots__ too, it's limited to both its parent class's __slots__ plus its own.\n",
    "And instance and class attribute are different, so cannot delete class attribute through its instance even the instance can have attribute of its class."
   ]
  },
  {
   "cell_type": "code",
   "execution_count": 14,
   "metadata": {
    "collapsed": true
   },
   "outputs": [
    {
     "ename": "AttributeError",
     "evalue": "'Person' object attribute 'number' is read-only",
     "output_type": "error",
     "traceback": [
      "\u001b[0;31m---------------------------------------------------------------------------\u001b[0m",
      "\u001b[0;31mAttributeError\u001b[0m                            Traceback (most recent call last)",
      "\u001b[0;32m<ipython-input-14-4221f84bfefb>\u001b[0m in \u001b[0;36m<module>\u001b[0;34m()\u001b[0m\n\u001b[1;32m      8\u001b[0m \u001b[0mp\u001b[0m \u001b[0;34m=\u001b[0m \u001b[0mPerson\u001b[0m\u001b[0;34m(\u001b[0m\u001b[0;34m'linoel'\u001b[0m\u001b[0;34m,\u001b[0m \u001b[0;36m12\u001b[0m\u001b[0;34m)\u001b[0m\u001b[0;34m\u001b[0m\u001b[0m\n\u001b[1;32m      9\u001b[0m \u001b[0;31m# p.sex = 'male'\u001b[0m\u001b[0;34m\u001b[0m\u001b[0;34m\u001b[0m\u001b[0m\n\u001b[0;32m---> 10\u001b[0;31m \u001b[0;32mdel\u001b[0m \u001b[0mp\u001b[0m\u001b[0;34m.\u001b[0m\u001b[0mnumber\u001b[0m \u001b[0;31m# del Person.name\u001b[0m\u001b[0;34m\u001b[0m\u001b[0m\n\u001b[0m\u001b[1;32m     11\u001b[0m \u001b[0mdir\u001b[0m\u001b[0;34m(\u001b[0m\u001b[0mPerson\u001b[0m\u001b[0;34m)\u001b[0m\u001b[0;34m\u001b[0m\u001b[0m\n",
      "\u001b[0;31mAttributeError\u001b[0m: 'Person' object attribute 'number' is read-only"
     ]
    }
   ],
   "source": [
    "class Person:\n",
    "    number = 0\n",
    "    __slots__ = ['name', 'age']\n",
    "    def __init__(self, name, age):\n",
    "        self.name = name\n",
    "        self.age = age\n",
    "\n",
    "p = Person('linoel', 12)\n",
    "p.sex = 'male' # cannot add because of __slots__\n",
    "del p.number # instance cannot delete class's attribute"
   ]
  },
  {
   "cell_type": "raw",
   "metadata": {},
   "source": [
    "Descriptor"
   ]
  },
  {
   "cell_type": "code",
   "execution_count": 36,
   "metadata": {
    "collapsed": true
   },
   "outputs": [
    {
     "name": "stdout",
     "output_type": "stream",
     "text": [
      "setting via descriptor...\n",
      "init\n",
      "invoke __getattribute__\n",
      "getting from descriptor...\n"
     ]
    },
    {
     "data": {
      "text/plain": [
       "1"
      ]
     },
     "execution_count": 36,
     "metadata": {},
     "output_type": "execute_result"
    }
   ],
   "source": [
    "class MyDescriptor:\n",
    "    def __init__(self, name):\n",
    "        self.name = name\n",
    "    def __get__(self, obj, objtype):\n",
    "        print('getting from descriptor...')\n",
    "        return self.name\n",
    "    def __set__(self, obj, value):\n",
    "        print('setting via descriptor...')\n",
    "        self.name = value\n",
    "class Person:\n",
    "    number = MyDescriptor(0)\n",
    "    def __init__(self, name, age, number):\n",
    "        self.name = name\n",
    "        self.age = age\n",
    "        self.number = number # attribute assigning via MyDescriptor\n",
    "        # self.__dict__['number'] = number # result is 0 instead of 1, prove that data descriptor prior to instance dict\n",
    "        print('init')\n",
    "    def __len__(self):\n",
    "        return 10\n",
    "    def __getattribute__(self, name): # will only be called for instance of class, not the class\n",
    "        print('invoke __getattribute__')\n",
    "        return super(Person, self).__getattribute__(name)\n",
    "        #return object.__getattribute__(self, name) another way to do it\n",
    "    def __introduce(self):\n",
    "        print('The person is '+str(self.name)+' and is '+str(self.age))\n",
    "p = Person('m', 11, 1)\n",
    "p.number # attribute access will start from instance's dict, then its class or parent class's dict\n",
    "# Person.number == Person.__dict__['number'].__get__(None, Person) # True, both will call MyDescriptor, but not __getattribute__\n",
    "#print(Person.__len__) # will not call __getattribute__, will call __getattribute__ in its metaclass\n",
    "#print(p.__len__) # will call __getattribute__"
   ]
  },
  {
   "cell_type": "markdown",
   "metadata": {
    "collapsed": true
   },
   "source": [
    "#### Enum"
   ]
  },
  {
   "cell_type": "code",
   "execution_count": 32,
   "metadata": {
    "collapsed": false
   },
   "outputs": [
    {
     "name": "stdout",
     "output_type": "stream",
     "text": [
      "Mon\n",
      "<enum 'Week'>\n",
      "Mon : 1\n",
      "Tue\n",
      "<enum 'Week'>\n",
      "Tue : 2\n",
      "Wed\n",
      "<enum 'Week'>\n",
      "Wed : 3\n",
      "Week.Mon\n",
      "Week.Mon\n",
      "Week.Mon\n"
     ]
    }
   ],
   "source": [
    "from enum import Enum\n",
    "\n",
    "# usage 1\n",
    "Week = Enum('Week', ('Mon', 'Tue', 'Wed'))\n",
    "# print(Week.__members__) # OrderedDict([('Mon', <Week.Mon: 1>), ('Tue', <Week.Tue: 2>), ('Wed', <Week.Wed: 3>)])\n",
    "for name, member in Week.__members__.items():\n",
    "    print(name)\n",
    "    print(type(member)) # <enum 'Week'>\n",
    "    print('{} : {}'.format(member.name, member.value))\n",
    "    \n",
    "# usage 2\n",
    "class Week(Enum):\n",
    "    Mon = 'Monday'\n",
    "    Tue = 'Tuesday'\n",
    "    Wed = 'Wednesday'\n",
    "\n",
    "# get enum member\n",
    "print(Week['Mon'])\n",
    "print(Week('Monday'))\n",
    "print(Week.Mon)"
   ]
  },
  {
   "cell_type": "markdown",
   "metadata": {},
   "source": [
    "#### metaclass"
   ]
  },
  {
   "cell_type": "markdown",
   "metadata": {},
   "source": [
    "type can be used to create class.\n",
    "In fact, class keyword invokes type to create class."
   ]
  },
  {
   "cell_type": "code",
   "execution_count": 33,
   "metadata": {
    "collapsed": false
   },
   "outputs": [
    {
     "name": "stdout",
     "output_type": "stream",
     "text": [
      "hello world\n"
     ]
    }
   ],
   "source": [
    "def func(self, str='world'):\n",
    "    print('hello %s' % str)\n",
    "\n",
    "Hello = type('Hello', (object,), dict(hello=func))\n",
    "h = Hello()\n",
    "h.hello()"
   ]
  },
  {
   "cell_type": "markdown",
   "metadata": {},
   "source": [
    "use metaclass to define class creation.\n",
    "class can be seen as instance of metaclass."
   ]
  },
  {
   "cell_type": "code",
   "execution_count": 34,
   "metadata": {
    "collapsed": false
   },
   "outputs": [
    {
     "name": "stdout",
     "output_type": "stream",
     "text": [
      "[1]\n"
     ]
    }
   ],
   "source": [
    "class ListMetaclass(type):\n",
    "    def __new__(cls, name, bases, attrs): # here cls refers to ListMetaclass\n",
    "        attrs['add'] = lambda self, value: self.append(value)\n",
    "        return type.__new__(cls, name, bases, attrs)\n",
    "\n",
    "class MyList(list, metaclass=ListMetaclass):\n",
    "    pass\n",
    "\n",
    "l = MyList()\n",
    "l.add(1)\n",
    "print(l)"
   ]
  },
  {
   "cell_type": "markdown",
   "metadata": {},
   "source": [
    "#### type vs object"
   ]
  },
  {
   "cell_type": "markdown",
   "metadata": {},
   "source": [
    "object is as the base class of all classes, including type.\n",
    "type defines the type of all classes, including itself."
   ]
  },
  {
   "cell_type": "code",
   "execution_count": 35,
   "metadata": {
    "collapsed": true
   },
   "outputs": [
    {
     "name": "stdout",
     "output_type": "stream",
     "text": [
      "()\n",
      "<class 'type'>\n",
      "(<class 'object'>,)\n",
      "<class 'type'>\n"
     ]
    }
   ],
   "source": [
    "print(object.__bases__)\n",
    "print(object.__class__)\n",
    "print(type.__bases__)\n",
    "print(type.__class__)"
   ]
  }
 ],
 "metadata": {
  "kernelspec": {
   "display_name": "Python 3",
   "language": "python",
   "name": "python3"
  },
  "language_info": {
   "codemirror_mode": {
    "name": "ipython",
    "version": 3
   },
   "file_extension": ".py",
   "mimetype": "text/x-python",
   "name": "python",
   "nbconvert_exporter": "python",
   "pygments_lexer": "ipython3",
   "version": "3.5.1"
  }
 },
 "nbformat": 4,
 "nbformat_minor": 2
}
