{
 "cells": [
  {
   "cell_type": "markdown",
   "metadata": {},
   "source": [
    "Python的函数参数传递\n",
    "Immutable basic types: numbers, strings and tuples\n",
    "Mutable types: lists, dicts and most other types"
   ]
  },
  {
   "cell_type": "markdown",
   "metadata": {},
   "source": [
    "不可变对象"
   ]
  },
  {
   "cell_type": "code",
   "execution_count": 3,
   "metadata": {
    "collapsed": false
   },
   "outputs": [
    {
     "name": "stdout",
     "output_type": "stream",
     "text": [
      "11\n"
     ]
    }
   ],
   "source": [
    "a = 11\n",
    "def func(v):\n",
    "    v = 12\n",
    "func(a)\n",
    "print('{0}'.format(a))"
   ]
  },
  {
   "cell_type": "markdown",
   "metadata": {},
   "source": [
    "可变对象"
   ]
  },
  {
   "cell_type": "code",
   "execution_count": 7,
   "metadata": {
    "collapsed": false
   },
   "outputs": [
    {
     "name": "stdout",
     "output_type": "stream",
     "text": [
      "[11, 12]\n",
      "[11]\n",
      "[12]\n"
     ]
    }
   ],
   "source": [
    "a = [11]\n",
    "def func(v):\n",
    "    v.append(12)\n",
    "func(a)\n",
    "print(a)\n",
    "\n",
    "a = [11]\n",
    "def func2(v):\n",
    "    v = [12]\n",
    "func2(a)\n",
    "print(a)\n",
    "\n",
    "a = [11]\n",
    "def func3(v):\n",
    "    v[0] = 12\n",
    "func3(a)\n",
    "print(a)"
   ]
  },
  {
   "cell_type": "markdown",
   "metadata": {},
   "source": [
    "总结：python中函数参数传递的是对象的引用，对于不可变对象，其相当于传值；对于可变对象，相当于传地址。所以在代码中，v相当于复制了a指向对象\n",
    "的引用（a为原引用），对象为列表时，func可以改变a指向的列表对象本身，而在func2中，v引用被指向了另一个列表对象[12]，所以a指向的原列表对象\n",
    "不会改变，然而在func3中，又改变了原列表对象。"
   ]
  },
  {
   "cell_type": "markdown",
   "metadata": {},
   "source": [
    "copy & deepcopy"
   ]
  },
  {
   "cell_type": "code",
   "execution_count": 8,
   "metadata": {
    "collapsed": false
   },
   "outputs": [
    {
     "name": "stdout",
     "output_type": "stream",
     "text": [
      "[1, 2, 3, 4]\n",
      "[1, 2, 3]\n"
     ]
    }
   ],
   "source": [
    "import copy\n",
    "\n",
    "a = [1,2,3]\n",
    "b = copy.copy(a)\n",
    "a.append(4)\n",
    "print(a)\n",
    "print(b)"
   ]
  },
  {
   "cell_type": "code",
   "execution_count": 11,
   "metadata": {
    "collapsed": false
   },
   "outputs": [
    {
     "name": "stdout",
     "output_type": "stream",
     "text": [
      "[1, [2, 3, 5], 4]\n",
      "[1, [2, 3, 5], 4]\n",
      "[1, [2, 3, 5], 4]\n",
      "[1, [2, 3], 4]\n"
     ]
    }
   ],
   "source": [
    "import copy\n",
    "\n",
    "a = [1,[2,3],4]\n",
    "b = copy.copy(a)\n",
    "a[1].append(5)\n",
    "print(a)\n",
    "print(b)\n",
    "\n",
    "a = [1,[2,3],4]\n",
    "b = copy.deepcopy(a)\n",
    "a[1].append(5)\n",
    "print(a)\n",
    "print(b)"
   ]
  },
  {
   "cell_type": "markdown",
   "metadata": {},
   "source": [
    "总结：copy.copy可用于复制引用指向的可变对象，并且不和原列表或字典对象有关联；但如果列表和字典对象里还包括可变对象，就需要用copy.deepcopy."
   ]
  },
  {
   "cell_type": "markdown",
   "metadata": {},
   "source": [
    "Python自省\n",
    "\n",
    "可用来得知对象是什么类型，包含什么属性和方法。\n",
    "涉及到的内建函数：hasattr,setattr,getattr,type,callable"
   ]
  },
  {
   "cell_type": "code",
   "execution_count": null,
   "metadata": {
    "collapsed": true
   },
   "outputs": [],
   "source": []
  },
  {
   "cell_type": "markdown",
   "metadata": {},
   "source": [
    "格式化字符串：format\n",
    "\n",
    "通过{}和:来代替%"
   ]
  },
  {
   "cell_type": "code",
   "execution_count": 17,
   "metadata": {
    "collapsed": false
   },
   "outputs": [
    {
     "name": "stdout",
     "output_type": "stream",
     "text": [
      "second, first\n",
      "jack, 18\n",
      "jack, 18\n",
      "second, first\n"
     ]
    }
   ],
   "source": [
    "# 位置映射\n",
    "print('{1}, {0}'.format('first', 'second'))\n",
    "\n",
    "# 关键字参数映射\n",
    "print('{name}, {age}'.format(name='jack', age=18))\n",
    "\n",
    "# 对象属性映射\n",
    "class Person:\n",
    "    def __init__(self,name,age):\n",
    "        self.name = name\n",
    "        self.age = age\n",
    "        print('{self.name}, {self.age}'.format(self=self))\n",
    "jack = Person('jack', 18)\n",
    "\n",
    "# 下标映射\n",
    "list = ['first', 'second']\n",
    "print('{0[1]}, {0[0]}'.format(list))"
   ]
  },
  {
   "cell_type": "markdown",
   "metadata": {},
   "source": [
    "^ < >分别表示居中、左对齐和右对齐，填充字符在：后面，只能是一个字符，默认为空格"
   ]
  },
  {
   "cell_type": "code",
   "execution_count": 24,
   "metadata": {
    "collapsed": false
   },
   "outputs": [
    {
     "name": "stdout",
     "output_type": "stream",
     "text": [
      "     123\n",
      "aa123aaa\n",
      "123.46\n"
     ]
    }
   ],
   "source": [
    "print('{:>8}'.format('123'))\n",
    "print('{:a^8}'.format('123'))\n",
    "print('{:.2f}'.format(123.456))"
   ]
  },
  {
   "cell_type": "markdown",
   "metadata": {},
   "source": [
    "作为金额的千分位分隔符"
   ]
  },
  {
   "cell_type": "code",
   "execution_count": 26,
   "metadata": {
    "collapsed": false
   },
   "outputs": [
    {
     "name": "stdout",
     "output_type": "stream",
     "text": [
      "1,234,567,890\n"
     ]
    }
   ],
   "source": [
    "print('{:,}'.format(1234567890))"
   ]
  },
  {
   "cell_type": "markdown",
   "metadata": {},
   "source": [
    "Namespaces and scopes"
   ]
  },
  {
   "cell_type": "markdown",
   "metadata": {},
   "source": [
    "The global statement can be used to indicate that particular variables live in the global scope and should be rebound there; the nonlocal statement indicates that particular variables live in an enclosing scope and should be rebound there."
   ]
  },
  {
   "cell_type": "code",
   "execution_count": 8,
   "metadata": {
    "collapsed": false
   },
   "outputs": [
    {
     "name": "stdout",
     "output_type": "stream",
     "text": [
      "After do_local spam is: test spam\n",
      "After do_nonlocal spam is: nonlocal spam\n",
      "After do_global spam is: nonlocal spam\n",
      "In global scope spam is: global spam\n"
     ]
    }
   ],
   "source": [
    "def scope_test():\n",
    "    def do_local():\n",
    "        spam='local spam'\n",
    "\n",
    "    def do_nonlocal():\n",
    "        nonlocal spam\n",
    "        spam='nonlocal spam'\n",
    "        \n",
    "    def do_global():\n",
    "        global spam\n",
    "        spam='global spam'\n",
    "        \n",
    "    spam = 'test spam'\n",
    "    do_local()\n",
    "    print('After do_local spam is: '+spam)\n",
    "    do_nonlocal()\n",
    "    print('After do_nonlocal spam is: '+spam)\n",
    "    do_global()\n",
    "    print('After do_global spam is: '+spam)\n",
    "scope_test()\n",
    "print('In global scope spam is: '+spam)"
   ]
  },
  {
   "cell_type": "markdown",
   "metadata": {},
   "source": [
    "Class objects: support two operations --> attribute references and instantiations"
   ]
  },
  {
   "cell_type": "code",
   "execution_count": 12,
   "metadata": {
    "collapsed": false
   },
   "outputs": [
    {
     "name": "stdout",
     "output_type": "stream",
     "text": [
      "123\n"
     ]
    }
   ],
   "source": [
    "class MyClass:\n",
    "    \"\"\"A simiple class example\"\"\"\n",
    "    i = 123\n",
    "    def count(self):\n",
    "        print(self.i)\n",
    "myclass = MyClass()\n",
    "myclass.count()"
   ]
  },
  {
   "cell_type": "markdown",
   "metadata": {},
   "source": [
    "Instance objects: have data attributes and methods\n",
    "MyClass.count is a function object and myclass.count is a method object\n",
    "MyClass.count(myclass) <--> myclass.count() 可以看成function与method的区别"
   ]
  },
  {
   "cell_type": "code",
   "execution_count": 16,
   "metadata": {
    "collapsed": false
   },
   "outputs": [
    {
     "name": "stdout",
     "output_type": "stream",
     "text": [
      "<function MyClass.count at 0x7f6202722730>\n",
      "<bound method MyClass.count of <__main__.MyClass object at 0x7f6202744d30>>\n"
     ]
    }
   ],
   "source": [
    "myclass = MyClass()\n",
    "print(MyClass.count)\n",
    "print(myclass.count)"
   ]
  },
  {
   "cell_type": "code",
   "execution_count": 5,
   "metadata": {
    "collapsed": false
   },
   "outputs": [
    {
     "name": "stdout",
     "output_type": "stream",
     "text": [
      "OrderedDict([('key', <Parameter \"key\">), ('args', <Parameter \"*args\">), ('kwargs', <Parameter \"**kwargs\">)])\n",
      "(key, *args, **kwargs)\n"
     ]
    }
   ],
   "source": [
    "import inspect\n",
    "\n",
    "def foo(key, *args, **kwargs):\n",
    "    pass\n",
    "\n",
    "result = inspect.signature(foo).parameters\n",
    "print(result)\n",
    "print(inspect.signature(foo))"
   ]
  },
  {
   "cell_type": "code",
   "execution_count": 7,
   "metadata": {
    "collapsed": false
   },
   "outputs": [
    {
     "name": "stdout",
     "output_type": "stream",
     "text": [
      "test\n",
      "['test']\n",
      "test2\n",
      "['test2', 'test3']\n"
     ]
    }
   ],
   "source": [
    "import urllib.parse as parse\n",
    "\n",
    "data = \"test=test&test2=test2&test2=test3\"\n",
    "for key, value in parse.parse_qs(data).items():\n",
    "    print(key)\n",
    "    print(value)"
   ]
  },
  {
   "cell_type": "code",
   "execution_count": 12,
   "metadata": {
    "collapsed": false
   },
   "outputs": [
    {
     "name": "stdout",
     "output_type": "stream",
     "text": [
      "<module 'urllib' from '/usr/lib/python3.5/urllib/__init__.py'>\n",
      "{'test': ['test']}\n"
     ]
    }
   ],
   "source": [
    "def f(name):\n",
    "    module = __import__(name)\n",
    "    print(module)\n",
    "    print(module.parse.parse_qs('test=test'))\n",
    "    \n",
    "f('urllib')\n"
   ]
  },
  {
   "cell_type": "code",
   "execution_count": 1,
   "metadata": {
    "collapsed": false,
    "scrolled": true
   },
   "outputs": [
    {
     "name": "stdout",
     "output_type": "stream",
     "text": [
      "OrderedDict([('a', <Parameter \"a\">), ('b', <Parameter \"b:int\">), ('kwargs', <Parameter \"**kwargs\">)])\n",
      "a;a>\n",
      "b;b:int>\n",
      "kwargs;**kwargs>\n"
     ]
    }
   ],
   "source": [
    "from inspect import signature\n",
    "\n",
    "def f(a, *, b:int, **kwargs):\n",
    "    pass\n",
    "\n",
    "sig = signature(f)\n",
    "params = sig.parameters\n",
    "print(params)\n",
    "for k, v in params.items():\n",
    "    print(str(k)+';'+str(v)+'>')"
   ]
  },
  {
   "cell_type": "markdown",
   "metadata": {},
   "source": [
    "python3 编码&解码"
   ]
  },
  {
   "cell_type": "markdown",
   "metadata": {},
   "source": [
    "在python3中, str和bytes是两个内置类型.str代表默认unicode类型的字符串, 而bytes表示字节序列."
   ]
  },
  {
   "cell_type": "code",
   "execution_count": 19,
   "metadata": {
    "collapsed": false
   },
   "outputs": [
    {
     "name": "stdout",
     "output_type": "stream",
     "text": [
      "True\n",
      "True\n",
      "3\n",
      "173\n",
      "e5ad97\n",
      "True\n"
     ]
    }
   ],
   "source": [
    "s = '字'\n",
    "b = b'\\xe5\\xad\\x97' # can only contain ascii characters\n",
    "print(isinstance(s, str))\n",
    "print(isinstance(b, bytes))\n",
    "\n",
    "# bytes object are actually sequences of integers\n",
    "print(len(b))\n",
    "print(b[1])\n",
    "print(b.hex())\n",
    "\n",
    "# conversion between str and bytes\n",
    "print(s.encode('utf8') == b) # default by utf8 also"
   ]
  },
  {
   "cell_type": "code",
   "execution_count": 8,
   "metadata": {
    "collapsed": false,
    "scrolled": true
   },
   "outputs": [
    {
     "ename": "UnboundLocalError",
     "evalue": "local variable 'var' referenced before assignment",
     "output_type": "error",
     "traceback": [
      "\u001b[0;31m---------------------------------------------------------------------------\u001b[0m",
      "\u001b[0;31mUnboundLocalError\u001b[0m                         Traceback (most recent call last)",
      "\u001b[0;32m<ipython-input-8-136b340b0686>\u001b[0m in \u001b[0;36m<module>\u001b[0;34m()\u001b[0m\n\u001b[1;32m      3\u001b[0m     \u001b[0mprint\u001b[0m\u001b[0;34m(\u001b[0m\u001b[0mvar\u001b[0m\u001b[0;34m)\u001b[0m\u001b[0;34m\u001b[0m\u001b[0m\n\u001b[1;32m      4\u001b[0m     \u001b[0mvar\u001b[0m \u001b[0;34m=\u001b[0m \u001b[0;36m200\u001b[0m \u001b[0;31m# comment this line\u001b[0m\u001b[0;34m\u001b[0m\u001b[0m\n\u001b[0;32m----> 5\u001b[0;31m \u001b[0mfun\u001b[0m\u001b[0;34m(\u001b[0m\u001b[0;34m)\u001b[0m\u001b[0;34m\u001b[0m\u001b[0m\n\u001b[0m",
      "\u001b[0;32m<ipython-input-8-136b340b0686>\u001b[0m in \u001b[0;36mfun\u001b[0;34m()\u001b[0m\n\u001b[1;32m      1\u001b[0m \u001b[0mvar\u001b[0m \u001b[0;34m=\u001b[0m \u001b[0;36m1\u001b[0m \u001b[0;31m# global var\u001b[0m\u001b[0;34m\u001b[0m\u001b[0m\n\u001b[1;32m      2\u001b[0m \u001b[0;32mdef\u001b[0m \u001b[0mfun\u001b[0m\u001b[0;34m(\u001b[0m\u001b[0;34m)\u001b[0m\u001b[0;34m:\u001b[0m\u001b[0;34m\u001b[0m\u001b[0m\n\u001b[0;32m----> 3\u001b[0;31m     \u001b[0mprint\u001b[0m\u001b[0;34m(\u001b[0m\u001b[0mvar\u001b[0m\u001b[0;34m)\u001b[0m\u001b[0;34m\u001b[0m\u001b[0m\n\u001b[0m\u001b[1;32m      4\u001b[0m     \u001b[0mvar\u001b[0m \u001b[0;34m=\u001b[0m \u001b[0;36m200\u001b[0m \u001b[0;31m# comment this line\u001b[0m\u001b[0;34m\u001b[0m\u001b[0m\n\u001b[1;32m      5\u001b[0m \u001b[0mfun\u001b[0m\u001b[0;34m(\u001b[0m\u001b[0;34m)\u001b[0m\u001b[0;34m\u001b[0m\u001b[0m\n",
      "\u001b[0;31mUnboundLocalError\u001b[0m: local variable 'var' referenced before assignment"
     ]
    }
   ],
   "source": [
    "var = 1 # global var\n",
    "def fun():\n",
    "    print(var) \n",
    "    var = 200 # comment this line \n",
    "fun()"
   ]
  },
  {
   "cell_type": "code",
   "execution_count": 10,
   "metadata": {
    "collapsed": false
   },
   "outputs": [
    {
     "name": "stdout",
     "output_type": "stream",
     "text": [
      "(<class '__main__.D'>, <class '__main__.C1'>, <class '__main__.C2'>, <class '__main__.A'>, <class '__main__.B'>, <class 'object'>)\n",
      "A foo\n",
      "C2-bar\n"
     ]
    }
   ],
   "source": [
    "class A(object):\n",
    "    def foo(self):\n",
    "        print('A foo')\n",
    "        \n",
    "class B(object):\n",
    "    def foo(self):\n",
    "        print('B foo')\n",
    "    def bar(self):\n",
    "        print('B bar')\n",
    "        \n",
    "class C1(A,B):\n",
    "    pass\n",
    "    \n",
    "class C2(A,B):\n",
    "    def bar(self):\n",
    "        print('C2-bar')\n",
    "        \n",
    "class D(C1,C2):\n",
    "    pass \n",
    "    \n",
    "\n",
    "if __name__ =='__main__':\n",
    "    print(D.__mro__)   #只有新式类有__mro__属性，告诉查找顺序是怎样的\n",
    "    d=D()\n",
    "    d.foo()\n",
    "    d.bar()"
   ]
  }
 ],
 "metadata": {
  "kernelspec": {
   "display_name": "Python 3",
   "language": "python",
   "name": "python3"
  },
  "language_info": {
   "codemirror_mode": {
    "name": "ipython",
    "version": 3
   },
   "file_extension": ".py",
   "mimetype": "text/x-python",
   "name": "python",
   "nbconvert_exporter": "python",
   "pygments_lexer": "ipython3",
   "version": "3.5.2"
  }
 },
 "nbformat": 4,
 "nbformat_minor": 2
}
