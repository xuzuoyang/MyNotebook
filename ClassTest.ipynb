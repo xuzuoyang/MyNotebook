{
 "cells": [
  {
   "cell_type": "code",
   "execution_count": null,
   "metadata": {
    "collapsed": true
   },
   "outputs": [],
   "source": [
    "类：字段 & 方法 & 属性\n",
    "\n",
    "字段：类（静态）& 实例（普通）\n",
    "\n",
    "方法：普通方法（self参数） & 类方法（cls参数） & 静态方法（）\n",
    "\n",
    "属性：装饰器定义 & 静态字段定义"
   ]
  },
  {
   "cell_type": "code",
   "execution_count": null,
   "metadata": {
    "collapsed": true
   },
   "outputs": [],
   "source": [
    "公有成员 vs 私有成员\n",
    "\n",
    "公有静态字段：类可以访问；类内部可以访问；派生类中可以访问\n",
    "私有静态字段：仅类内部可以访问；\n",
    "\n",
    "公有普通字段：对象可以访问；类内部可以访问；派生类中可以访问\n",
    "私有普通字段：仅类内部可以访问；"
   ]
  },
  {
   "cell_type": "code",
   "execution_count": 6,
   "metadata": {
    "collapsed": false
   },
   "outputs": [
    {
     "name": "stdout",
     "output_type": "stream",
     "text": [
      "total num of users is 1\n"
     ]
    }
   ],
   "source": [
    "class User:\n",
    "    count = 0\n",
    "    __privilege = 'class 1'\n",
    "    \n",
    "    def __init__(self, username):\n",
    "        self.username = username\n",
    "        self.__passwd = '123456'\n",
    "        User.count += 1\n",
    "        \n",
    "    @property\n",
    "    def intro(self):\n",
    "        self.intro = 'i\\'m {self.username}'.format(self)\n",
    "        return self.intro\n",
    "    @intro.setter\n",
    "    def intro(self, value):\n",
    "        self.username = value\n",
    "    @intro.deleter\n",
    "    def intro(self):\n",
    "        del self.intro\n",
    "        \n",
    "    @classmethod\n",
    "    def isClassOf(cls, base):\n",
    "        return type(cls) == base\n",
    "    \n",
    "    @staticmethod\n",
    "    def countAll():\n",
    "        print('total num of users is {}'.format(User.count))\n",
    "        \n",
    "        \n",
    "user = User('test')\n",
    "user.countAll()\n",
    "        "
   ]
  },
  {
   "cell_type": "code",
   "execution_count": null,
   "metadata": {
    "collapsed": true
   },
   "outputs": [],
   "source": [
    "特殊成员\n",
    "\n",
    "__init__, __new__\n",
    "__str__, __repr__\n",
    "__getitem__、__setitem__、__delitem__\n",
    "__call__\n",
    "__metaclass__"
   ]
  },
  {
   "cell_type": "code",
   "execution_count": null,
   "metadata": {
    "collapsed": true
   },
   "outputs": [],
   "source": [
    "__new__是一个静态方法,而__init__是一个实例方法.\n",
    "__new__方法会返回一个创建的实例,而__init__什么都不返回.\n",
    "只有在__new__返回一个cls的实例时后面的__init__才能被调用.\n",
    "当创建一个新实例时调用__new__,初始化一个实例时用__init__."
   ]
  },
  {
   "cell_type": "code",
   "execution_count": null,
   "metadata": {
    "collapsed": true
   },
   "outputs": [],
   "source": []
  },
  {
   "cell_type": "code",
   "execution_count": null,
   "metadata": {
    "collapsed": true
   },
   "outputs": [],
   "source": []
  },
  {
   "cell_type": "code",
   "execution_count": 11,
   "metadata": {
    "collapsed": false
   },
   "outputs": [
    {
     "name": "stdout",
     "output_type": "stream",
     "text": [
      "enter C\n",
      "enter A\n",
      "enter B\n",
      "enter Base\n",
      "leave Base\n",
      "leave B\n",
      "leave A\n",
      "leave C\n"
     ]
    }
   ],
   "source": [
    "class Base(object):\n",
    "    def __init__(self):\n",
    "        print(\"enter Base\")\n",
    "        print(\"leave Base\")\n",
    " \n",
    "class A(Base):\n",
    "    def __init__(self):\n",
    "        print(\"enter A\")\n",
    "        super(A, self).__init__()\n",
    "        print(\"leave A\")\n",
    " \n",
    "class B(Base):\n",
    "    def __init__(self):\n",
    "        print(\"enter B\")\n",
    "        super(B, self).__init__()\n",
    "        print(\"leave B\")\n",
    " \n",
    "class C(A, B):\n",
    "    def __init__(self):\n",
    "        print(\"enter C\")\n",
    "        super(C, self).__init__()\n",
    "        print(\"leave C\")\n",
    "        \n",
    "c = C()"
   ]
  },
  {
   "cell_type": "code",
   "execution_count": null,
   "metadata": {
    "collapsed": true
   },
   "outputs": [],
   "source": []
  },
  {
   "cell_type": "raw",
   "metadata": {},
   "source": [
    "Without arguments, return the list of names in the current local scope. With an argument, attempt to return a list of valid attributes for that object.\n",
    "\n",
    "If the object has a method named __dir__(), this method will be called and must return the list of attributes. This allows objects that implement a custom __getattr__() or __getattribute__() function to customize the way dir() reports their attributes.\n",
    "\n",
    "If the object does not provide __dir__(), the function tries its best to gather information from the object’s __dict__ attribute, if defined, and from its type object. The resulting list is not necessarily complete, and may be inaccurate when the object has a custom __getattr__().\n",
    "\n",
    "The default dir() mechanism behaves differently with different types of objects, as it attempts to produce the most relevant, rather than complete, information:\n",
    "\n",
    "If the object is a module object, the list contains the names of the module’s attributes.\n",
    "If the object is a type or class object, the list contains the names of its attributes, and recursively of the attributes of its bases.\n",
    "Otherwise, the list contains the object’s attributes’ names, the names of its class’s attributes, and recursively of the attributes of its class’s base classes."
   ]
  },
  {
   "cell_type": "code",
   "execution_count": 33,
   "metadata": {
    "collapsed": false,
    "scrolled": false
   },
   "outputs": [
    {
     "name": "stdout",
     "output_type": "stream",
     "text": [
      "['__class__', '__delattr__', '__dict__', '__dir__', '__doc__', '__eq__', '__format__', '__ge__', '__getattribute__', '__gt__', '__hash__', '__init__', '__le__', '__lt__', '__module__', '__ne__', '__new__', '__reduce__', '__reduce_ex__', '__repr__', '__setattr__', '__sizeof__', '__str__', '__subclasshook__', '__weakref__', 'introduce', 'number']\n",
      "['__class__', '__delattr__', '__dict__', '__dir__', '__doc__', '__eq__', '__format__', '__ge__', '__getattribute__', '__gt__', '__hash__', '__init__', '__le__', '__lt__', '__module__', '__ne__', '__new__', '__reduce__', '__reduce_ex__', '__repr__', '__setattr__', '__sizeof__', '__str__', '__subclasshook__', '__weakref__', 'introduce', 'number', 'school']\n",
      "['__class__', '__delattr__', '__dict__', '__dir__', '__doc__', '__eq__', '__format__', '__ge__', '__getattribute__', '__gt__', '__hash__', '__init__', '__le__', '__lt__', '__module__', '__ne__', '__new__', '__reduce__', '__reduce_ex__', '__repr__', '__setattr__', '__sizeof__', '__str__', '__subclasshook__', '__weakref__', 'grade', 'introduce', 'number', 'school']\n"
     ]
    }
   ],
   "source": [
    "class Person:\n",
    "    number = 0\n",
    "    def __init__(self, name, age):\n",
    "        self.name = name\n",
    "        self.age = age\n",
    "    def introduce(self):\n",
    "        print('The person is '+str(self.name)+' and is '+str(self.age))\n",
    "class Student(Person):\n",
    "    school = 'Omega'\n",
    "    def __init__(self, name, age, grade):\n",
    "        # Person.__init__(self)\n",
    "        # super(Student, self).__init__(name, age)\n",
    "        self.grade = grade\n",
    "    def introduce(self):\n",
    "        print('The student is '+str(self.name)+' and is '+str(self.age)+' in grade '+str(self.grade))\n",
    "print(dir(Person))\n",
    "print(dir(Student))\n",
    "print(dir(Student('tom', 11, 3)))"
   ]
  },
  {
   "cell_type": "raw",
   "metadata": {},
   "source": [
    "So the difference between vars(x) and dir(x) is that dir(x) does the extra work of looking in x's class (and its bases) for attributes that are accessible from it, not just those attributes that are stored in x's own symbol table."
   ]
  },
  {
   "cell_type": "code",
   "execution_count": 20,
   "metadata": {
    "collapsed": false,
    "scrolled": true
   },
   "outputs": [
    {
     "name": "stdout",
     "output_type": "stream",
     "text": [
      "['__class__', '__delattr__', '__dict__', '__dir__', '__doc__', '__eq__', '__format__', '__ge__', '__getattribute__', '__gt__', '__hash__', '__init__', '__le__', '__lt__', '__module__', '__ne__', '__new__', '__reduce__', '__reduce_ex__', '__repr__', '__setattr__', '__sizeof__', '__str__', '__subclasshook__', '__weakref__', 'introduce', 'number', 'school']\n",
      "dict_keys(['__module__', 'school', '__doc__', '__init__', 'introduce'])\n"
     ]
    }
   ],
   "source": [
    "p = Person('tom', 22)\n",
    "print(dir(Student))\n",
    "print(vars(Student).keys())"
   ]
  },
  {
   "cell_type": "raw",
   "metadata": {},
   "source": [
    "Since there is a valid use-case for class-private members (namely to avoid name clashes of names with names defined by subclasses), there is limited support for such a mechanism, called name mangling. Any identifier of the form __spam (at least two leading underscores, at most one trailing underscore) is textually replaced with _classname__spam, where classname is the current class name with leading underscore(s) stripped. This mangling is done without regard to the syntactic position of the identifier, as long as it occurs within the definition of a class.\n",
    "#Name mangling##类私有成员#"
   ]
  },
  {
   "cell_type": "code",
   "execution_count": null,
   "metadata": {
    "collapsed": true
   },
   "outputs": [],
   "source": [
    "class Mapping:\n",
    "    def __init__(self, iterable):\n",
    "        self.items_list = []\n",
    "        self.__update(iterable)\n",
    "\n",
    "    def update(self, iterable):\n",
    "        for item in iterable:\n",
    "            self.items_list.append(item)\n",
    "\n",
    "    __update = update   # private copy of original update() method\n",
    "\n",
    "class MappingSubclass(Mapping):\n",
    "\n",
    "    def update(self, keys, values):\n",
    "        # provides new signature for update()\n",
    "        # but does not break __init__()\n",
    "        for item in zip(keys, values):\n",
    "            self.items_list.append(item)"
   ]
  },
  {
   "cell_type": "raw",
   "metadata": {},
   "source": [
    "Name mangling convert __number to _Person__number which belongs to class Person, but class Student will also inherit it, however there won't be same-name-variable-overwrite issue."
   ]
  },
  {
   "cell_type": "code",
   "execution_count": 29,
   "metadata": {
    "collapsed": false
   },
   "outputs": [
    {
     "name": "stdout",
     "output_type": "stream",
     "text": [
      "10\n",
      "0\n",
      "['_Person__number', '__class__', '__delattr__', '__dict__', '__dir__', '__doc__', '__eq__', '__format__', '__ge__', '__getattribute__', '__gt__', '__hash__', '__init__', '__le__', '__lt__', '__module__', '__ne__', '__new__', '__reduce__', '__reduce_ex__', '__repr__', '__setattr__', '__sizeof__', '__str__', '__subclasshook__', '__weakref__', 'introduce', 'number', 'school']\n"
     ]
    }
   ],
   "source": [
    "class Person:\n",
    "    __number = 0\n",
    "    def __init__(self, name, age):\n",
    "        self.name = name\n",
    "        self.age = age\n",
    "    def introduce(self):\n",
    "        print('The person is '+str(self.name)+' and is '+str(self.age))\n",
    "class Student(Person):\n",
    "    number = 10\n",
    "    school = 'Omega'\n",
    "    def __init__(self, name, age, grade):\n",
    "        # Person.__init__(self)\n",
    "        super(Student, self).__init__(name, age)\n",
    "        self.grade = grade\n",
    "    def introduce(self):\n",
    "        print('The student is '+str(self.name)+' and is '+str(self.age)+' in grade '+str(self.grade))\n",
    "print(Student.number)\n",
    "print(Student._Person__number)\n",
    "print(dir(Student))"
   ]
  },
  {
   "cell_type": "raw",
   "metadata": {},
   "source": [
    "__slots__ is used to limit attributes of instance of a class. And instance and class attribute are different, so cannot delete class attribute through its instance even the instance can have attribute of its class."
   ]
  },
  {
   "cell_type": "code",
   "execution_count": 4,
   "metadata": {
    "collapsed": false
   },
   "outputs": [
    {
     "ename": "AttributeError",
     "evalue": "'Person' object has no attribute 'sex'",
     "output_type": "error",
     "traceback": [
      "\u001b[0;31m---------------------------------------------------------------------------\u001b[0m",
      "\u001b[0;31mAttributeError\u001b[0m                            Traceback (most recent call last)",
      "\u001b[0;32m<ipython-input-4-851477d42071>\u001b[0m in \u001b[0;36m<module>\u001b[0;34m()\u001b[0m\n\u001b[1;32m      8\u001b[0m         \u001b[0mprint\u001b[0m\u001b[0;34m(\u001b[0m\u001b[0;34m'The person is '\u001b[0m\u001b[0;34m+\u001b[0m\u001b[0mstr\u001b[0m\u001b[0;34m(\u001b[0m\u001b[0mself\u001b[0m\u001b[0;34m.\u001b[0m\u001b[0mname\u001b[0m\u001b[0;34m)\u001b[0m\u001b[0;34m+\u001b[0m\u001b[0;34m' and is '\u001b[0m\u001b[0;34m+\u001b[0m\u001b[0mstr\u001b[0m\u001b[0;34m(\u001b[0m\u001b[0mself\u001b[0m\u001b[0;34m.\u001b[0m\u001b[0mage\u001b[0m\u001b[0;34m)\u001b[0m\u001b[0;34m)\u001b[0m\u001b[0;34m\u001b[0m\u001b[0m\n\u001b[1;32m      9\u001b[0m \u001b[0mp\u001b[0m \u001b[0;34m=\u001b[0m \u001b[0mPerson\u001b[0m\u001b[0;34m(\u001b[0m\u001b[0;36m12\u001b[0m\u001b[0;34m)\u001b[0m\u001b[0;34m\u001b[0m\u001b[0m\n\u001b[0;32m---> 10\u001b[0;31m \u001b[0mp\u001b[0m\u001b[0;34m.\u001b[0m\u001b[0msex\u001b[0m \u001b[0;34m=\u001b[0m \u001b[0;34m'male'\u001b[0m\u001b[0;34m\u001b[0m\u001b[0m\n\u001b[0m\u001b[1;32m     11\u001b[0m \u001b[0;32mdel\u001b[0m \u001b[0mp\u001b[0m\u001b[0;34m.\u001b[0m\u001b[0mname\u001b[0m \u001b[0;31m# del Person.name\u001b[0m\u001b[0;34m\u001b[0m\u001b[0m\n\u001b[1;32m     12\u001b[0m \u001b[0mdir\u001b[0m\u001b[0;34m(\u001b[0m\u001b[0mp\u001b[0m\u001b[0;34m)\u001b[0m\u001b[0;34m\u001b[0m\u001b[0m\n",
      "\u001b[0;31mAttributeError\u001b[0m: 'Person' object has no attribute 'sex'"
     ]
    }
   ],
   "source": [
    "class Person:\n",
    "    number = 0\n",
    "    name = 'person'\n",
    "    __slots__ = ['age']\n",
    "    def __init__(self, age):\n",
    "        self.age = age\n",
    "    def introduce(self):\n",
    "        print('The person is '+str(self.name)+' and is '+str(self.age))\n",
    "p = Person(12)\n",
    "p.sex = 'male'\n",
    "del p.name # del Person.name\n",
    "dir(p)"
   ]
  },
  {
   "cell_type": "raw",
   "metadata": {},
   "source": []
  },
  {
   "cell_type": "code",
   "execution_count": 36,
   "metadata": {
    "collapsed": false
   },
   "outputs": [
    {
     "name": "stdout",
     "output_type": "stream",
     "text": [
      "setting via descriptor...\n",
      "init\n",
      "invoke __getattribute__\n",
      "getting from descriptor...\n"
     ]
    },
    {
     "data": {
      "text/plain": [
       "1"
      ]
     },
     "execution_count": 36,
     "metadata": {},
     "output_type": "execute_result"
    }
   ],
   "source": [
    "class MyDescriptor:\n",
    "    def __init__(self, name):\n",
    "        self.name = name\n",
    "    def __get__(self, obj, objtype):\n",
    "        print('getting from descriptor...')\n",
    "        return self.name\n",
    "    def __set__(self, obj, value):\n",
    "        print('setting via descriptor...')\n",
    "        self.name = value\n",
    "class Person:\n",
    "    number = MyDescriptor(0)\n",
    "    def __init__(self, name, age, number):\n",
    "        self.name = name\n",
    "        self.age = age\n",
    "        self.number = number # attribute assigning via MyDescriptor\n",
    "        # self.__dict__['number'] = number # result is 0 instead of 1, prove that data descriptor prior to instance dict\n",
    "        print('init')\n",
    "    def __len__(self):\n",
    "        return 10\n",
    "    def __getattribute__(self, name): # will only be called for instance of class, not the class\n",
    "        print('invoke __getattribute__')\n",
    "        return super(Person, self).__getattribute__(name)\n",
    "        #return object.__getattribute__(self, name) another way to do it\n",
    "    def __introduce(self):\n",
    "        print('The person is '+str(self.name)+' and is '+str(self.age))\n",
    "p = Person('m', 11, 1)\n",
    "p.number # attribute access will start from instance's dict, then its class or parent class's dict\n",
    "# Person.number == Person.__dict__['number'].__get__(None, Person) # True, both will call MyDescriptor, but not __getattribute__\n",
    "#print(Person.__len__) # will not call __getattribute__, will call __getattribute__ in its metaclass\n",
    "#print(p.__len__) # will call __getattribute__"
   ]
  },
  {
   "cell_type": "raw",
   "metadata": {
    "collapsed": true
   },
   "source": [
    "Decorator"
   ]
  },
  {
   "cell_type": "code",
   "execution_count": 24,
   "metadata": {
    "collapsed": false
   },
   "outputs": [
    {
     "name": "stdout",
     "output_type": "stream",
     "text": [
      "calling function print_now\n",
      "2017-03-15 by jack\n"
     ]
    }
   ],
   "source": [
    "import datetime\n",
    "    \n",
    "def log(text):\n",
    "    if callable(text):\n",
    "        def wrapper(*args, **kw):\n",
    "            print('calling function ' + text.__name__)\n",
    "            return text(*args, **kw)\n",
    "        return wrapper\n",
    "    else:\n",
    "        def decorator(func):\n",
    "            def wrapper(*args, **kw):\n",
    "                print(text + ' function ' + func.__name__)\n",
    "                return func(*args, **kw)\n",
    "            print('ending function...')\n",
    "            return wrapper\n",
    "        return decorator\n",
    "\n",
    "@log\n",
    "def print_now(reporter):print(datetime.datetime.now().strftime('%Y-%m-%d') + ' by ' + reporter)\n",
    "#print_now = log('executing')(print_now)\n",
    "    \n",
    "print_now('jack') "
   ]
  },
  {
   "cell_type": "code",
   "execution_count": null,
   "metadata": {
    "collapsed": true
   },
   "outputs": [],
   "source": []
  },
  {
   "cell_type": "code",
   "execution_count": 1,
   "metadata": {
    "collapsed": false
   },
   "outputs": [
    {
     "name": "stdout",
     "output_type": "stream",
     "text": [
      "Jan => Month.Jan , 1\n",
      "Feb => Month.Feb , 2\n",
      "Mar => Month.Mar , 3\n",
      "Apr => Month.Apr , 4\n",
      "May => Month.May , 5\n",
      "Jun => Month.Jun , 6\n",
      "Jul => Month.Jul , 7\n",
      "Aug => Month.Aug , 8\n",
      "Sep => Month.Sep , 9\n",
      "Oct => Month.Oct , 10\n",
      "Nov => Month.Nov , 11\n",
      "Dec => Month.Dec , 12\n"
     ]
    }
   ],
   "source": [
    "from enum import Enum\n",
    "\n",
    "Month = Enum('Month', ('Jan', 'Feb', 'Mar', 'Apr', 'May', 'Jun', 'Jul', 'Aug', 'Sep', 'Oct', 'Nov', 'Dec'))\n",
    "\n",
    "for name, member in Month.__members__.items():\n",
    "    print(name, '=>', member, ',', member.value)"
   ]
  },
  {
   "cell_type": "code",
   "execution_count": null,
   "metadata": {
    "collapsed": true
   },
   "outputs": [],
   "source": []
  }
 ],
 "metadata": {
  "kernelspec": {
   "display_name": "Python 3",
   "language": "python",
   "name": "python3"
  },
  "language_info": {
   "codemirror_mode": {
    "name": "ipython",
    "version": 3
   },
   "file_extension": ".py",
   "mimetype": "text/x-python",
   "name": "python",
   "nbconvert_exporter": "python",
   "pygments_lexer": "ipython3",
   "version": "3.5.1"
  }
 },
 "nbformat": 4,
 "nbformat_minor": 2
}
