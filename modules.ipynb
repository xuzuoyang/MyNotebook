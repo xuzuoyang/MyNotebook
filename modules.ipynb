{
 "cells": [
  {
   "cell_type": "markdown",
   "metadata": {},
   "source": [
    "datetime"
   ]
  },
  {
   "cell_type": "code",
   "execution_count": 12,
   "metadata": {},
   "outputs": [
    {
     "name": "stdout",
     "output_type": "stream",
     "text": [
      "2018-08-21 09:27:59\n",
      "Tue Aug 21 09:27:59 2018\n",
      "09:27:59\n",
      "08/21/18\n"
     ]
    },
    {
     "ename": "ValueError",
     "evalue": "astimezone() cannot be applied to a naive datetime",
     "output_type": "error",
     "traceback": [
      "\u001b[0;31m---------------------------------------------------------------------------\u001b[0m",
      "\u001b[0;31mValueError\u001b[0m                                Traceback (most recent call last)",
      "\u001b[0;32m<ipython-input-12-46ea0f753e61>\u001b[0m in \u001b[0;36m<module>\u001b[0;34m()\u001b[0m\n\u001b[1;32m      7\u001b[0m \u001b[0mprint\u001b[0m\u001b[0;34m(\u001b[0m\u001b[0mnow\u001b[0m\u001b[0;34m.\u001b[0m\u001b[0mstrftime\u001b[0m\u001b[0;34m(\u001b[0m\u001b[0;34m'%x'\u001b[0m\u001b[0;34m)\u001b[0m\u001b[0;34m)\u001b[0m\u001b[0;34m\u001b[0m\u001b[0m\n\u001b[1;32m      8\u001b[0m \u001b[0;34m\u001b[0m\u001b[0m\n\u001b[0;32m----> 9\u001b[0;31m \u001b[0mnow\u001b[0m\u001b[0;34m.\u001b[0m\u001b[0mastimezone\u001b[0m\u001b[0;34m(\u001b[0m\u001b[0;34m)\u001b[0m\u001b[0;34m\u001b[0m\u001b[0m\n\u001b[0m\u001b[1;32m     10\u001b[0m \u001b[0;31m# now.astimezone('Asia/Shanghai')\u001b[0m\u001b[0;34m\u001b[0m\u001b[0;34m\u001b[0m\u001b[0m\n\u001b[1;32m     11\u001b[0m \u001b[0mprint\u001b[0m\u001b[0;34m(\u001b[0m\u001b[0mnow\u001b[0m\u001b[0;34m.\u001b[0m\u001b[0misoformat\u001b[0m\u001b[0;34m(\u001b[0m\u001b[0;34m)\u001b[0m\u001b[0;34m)\u001b[0m\u001b[0;34m\u001b[0m\u001b[0m\n",
      "\u001b[0;31mValueError\u001b[0m: astimezone() cannot be applied to a naive datetime"
     ]
    }
   ],
   "source": [
    "from datetime import datetime\n",
    "\n",
    "now = datetime.now()\n",
    "print(now.strftime('%Y-%m-%d %H:%M:%S'))\n",
    "print(now.strftime('%c'))\n",
    "print(now.strftime('%X'))\n",
    "print(now.strftime('%x'))\n",
    "\n",
    "# import pytz\n",
    "# shanghai = pytz.timezone('Asia/Shanghai')\n",
    "# now = datetime(2018, 8, 21, 9, 34, 11, 68294, tzinfo=shanghai)\n",
    "# now.astimezone方法在3.6之前不能作用于naive datetime object\n",
    "# will return ISO 8601 format, and with tzinfo if any, i.e. 2018-08-21T09:34:11.068294+08:06\n",
    "print(now.isoformat())\n",
    "# 使用strftime方法的话会丢失时区信息，没有时区信息的datetime称为naive，否则为aware\n",
    "# 在django中如果设置了USE_TZ为True和TIMEZONE的话代码中django.utils.timezone.now()会生成该时区的时间\n",
    "# 数据库存储层会存储UTC的时间，所以写库时如果用了USE_TZ和naive datetime的话会报warning，并且试图转化为UTC下的\n",
    "# datetime；前端页面也有支持设置的时区的转化的功能函数 {% load tz %} {% localtime %}等等，不过也可以在后端\n",
    "# 自己做转化"
   ]
  },
  {
   "cell_type": "markdown",
   "metadata": {},
   "source": [
    "enum"
   ]
  },
  {
   "cell_type": "code",
   "execution_count": 1,
   "metadata": {},
   "outputs": [
    {
     "name": "stdout",
     "output_type": "stream",
     "text": [
      "Mon\n",
      "<enum 'Week'>\n",
      "Mon : 1\n",
      "Tue\n",
      "<enum 'Week'>\n",
      "Tue : 2\n",
      "Wed\n",
      "<enum 'Week'>\n",
      "Wed : 3\n",
      "Week.Mon\n",
      "Week.Mon\n",
      "Week.Mon\n"
     ]
    }
   ],
   "source": [
    "from enum import Enum\n",
    "\n",
    "# usage 1\n",
    "Week = Enum('Week', ('Mon', 'Tue', 'Wed'))\n",
    "# print(Week.__members__) # OrderedDict([('Mon', <Week.Mon: 1>), ('Tue', <Week.Tue: 2>), ('Wed', <Week.Wed: 3>)])\n",
    "for name, member in Week.__members__.items():\n",
    "    print(name)\n",
    "    print(type(member)) # <enum 'Week'>\n",
    "    print('{} : {}'.format(member.name, member.value))\n",
    "    \n",
    "# usage 2\n",
    "class Week(Enum):\n",
    "    Mon = 'Monday'\n",
    "    Tue = 'Tuesday'\n",
    "    Wed = 'Wednesday'\n",
    "\n",
    "# get enum member\n",
    "print(Week['Mon'])\n",
    "print(Week('Monday'))\n",
    "print(Week.Mon)"
   ]
  },
  {
   "cell_type": "code",
   "execution_count": null,
   "metadata": {},
   "outputs": [],
   "source": [
    "json"
   ]
  },
  {
   "cell_type": "code",
   "execution_count": 34,
   "metadata": {},
   "outputs": [
    {
     "name": "stdout",
     "output_type": "stream",
     "text": [
      "{\"name\": \"小明\", \"age\": 20}\n",
      "{\"name\": \"jacob\", \"age\": 25}\n",
      "jacob is 25!\n"
     ]
    }
   ],
   "source": [
    "import json\n",
    "\n",
    "obj = dict(name='小明', age=20)\n",
    "s = json.dumps(obj, ensure_ascii=False) # ensure_ascii=True will cause encoding error\n",
    "print(s)\n",
    "\n",
    "class Person:\n",
    "    def __init__(self, name, age):\n",
    "        self.name = name\n",
    "        self.age = age\n",
    "        \n",
    "    def __str__(self):\n",
    "        return '%s is %s!' % (self.name, self.age)\n",
    "        \n",
    "p = Person('jacob', 25)\n",
    "dumped_p = json.dumps(p, default=lambda x: {'name': x.name, 'age': x.age})\n",
    "print(dumped_p)\n",
    "\n",
    "p = json.loads(dumped_p, object_hook=lambda x: Person(**x))\n",
    "print(p)"
   ]
  },
  {
   "cell_type": "raw",
   "metadata": {},
   "source": [
    "operator"
   ]
  },
  {
   "cell_type": "code",
   "execution_count": null,
   "metadata": {},
   "outputs": [],
   "source": [
    "from operator import itemgetter"
   ]
  },
  {
   "cell_type": "raw",
   "metadata": {},
   "source": [
    "itertools"
   ]
  },
  {
   "cell_type": "code",
   "execution_count": null,
   "metadata": {},
   "outputs": [],
   "source": [
    "from itertools import chain"
   ]
  },
  {
   "cell_type": "raw",
   "metadata": {},
   "source": [
    "collections"
   ]
  },
  {
   "cell_type": "code",
   "execution_count": 2,
   "metadata": {},
   "outputs": [
    {
     "name": "stdout",
     "output_type": "stream",
     "text": [
      "{'str': [11, 22, 33], 'int': ['first', 'second', 'third']}\n"
     ]
    }
   ],
   "source": [
    "from collections import defaultdict\n",
    "\n",
    "d = defaultdict(list)\n",
    "raw = {'a': 11, 'b': 22, 'c': 33, 1: 'first', 2: 'second', 3: 'third'}\n",
    "for k, v in raw.items():\n",
    "    if isinstance(k, str):\n",
    "        d['str'].append(v)\n",
    "    else:\n",
    "        d['int'].append(v)\n",
    "        \n",
    "print(dict(d))"
   ]
  }
 ],
 "metadata": {
  "kernelspec": {
   "display_name": "Python 3",
   "language": "python",
   "name": "python3"
  },
  "language_info": {
   "codemirror_mode": {
    "name": "ipython",
    "version": 3
   },
   "file_extension": ".py",
   "mimetype": "text/x-python",
   "name": "python",
   "nbconvert_exporter": "python",
   "pygments_lexer": "ipython3",
   "version": "3.6.5"
  }
 },
 "nbformat": 4,
 "nbformat_minor": 2
}
